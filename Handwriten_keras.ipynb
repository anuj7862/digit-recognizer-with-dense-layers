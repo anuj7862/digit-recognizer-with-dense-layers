{
  "nbformat": 4,
  "nbformat_minor": 0,
  "metadata": {
    "colab": {
      "name": "Handwriten_keras.ipynb",
      "provenance": []
    },
    "kernelspec": {
      "name": "python3",
      "display_name": "Python 3"
    }
  },
  "cells": [
    {
      "cell_type": "code",
      "metadata": {
        "id": "DsQ_kn7kigkH",
        "colab_type": "code",
        "colab": {}
      },
      "source": [
        "import tensorflow as tf \n",
        "import pandas as  pd \n",
        "import numpy as np \n",
        "from sklearn.model_selection import train_test_split \n",
        "import matplotlib.pyplot as plt \n",
        "from tensorflow.python.framework import ops \n",
        "#from sklearn.utils import shuffle\n",
        "import math\n",
        "\n",
        "from tensorflow import keras   \n",
        "\n"
      ],
      "execution_count": 0,
      "outputs": []
    },
    {
      "cell_type": "code",
      "metadata": {
        "id": "-KmedSzhiooN",
        "colab_type": "code",
        "outputId": "82221042-f099-4e2b-f9bd-16aa361c0f33",
        "colab": {
          "base_uri": "https://localhost:8080/",
          "height": 34
        }
      },
      "source": [
        "from google.colab import drive\n",
        "drive.mount('/content/drive')"
      ],
      "execution_count": 0,
      "outputs": [
        {
          "output_type": "stream",
          "text": [
            "Drive already mounted at /content/drive; to attempt to forcibly remount, call drive.mount(\"/content/drive\", force_remount=True).\n"
          ],
          "name": "stdout"
        }
      ]
    },
    {
      "cell_type": "code",
      "metadata": {
        "id": "73jQSRgLixgY",
        "colab_type": "code",
        "colab": {}
      },
      "source": [
        "import os\n",
        "os.chdir(\"/content/drive/My Drive/Colab Notebooks\")\n"
      ],
      "execution_count": 0,
      "outputs": []
    },
    {
      "cell_type": "code",
      "metadata": {
        "id": "7KnATyEhi4QO",
        "colab_type": "code",
        "colab": {}
      },
      "source": [
        "train =pd.read_csv(\"train.csv\")\n",
        "test = pd.read_csv(\"test.csv\")"
      ],
      "execution_count": 0,
      "outputs": []
    },
    {
      "cell_type": "code",
      "metadata": {
        "id": "94wS1KutjSI_",
        "colab_type": "code",
        "outputId": "11c0eced-171f-46a4-b9bd-6ead90d47ad0",
        "colab": {
          "base_uri": "https://localhost:8080/",
          "height": 34
        }
      },
      "source": [
        "#train = shuffle(train)\n",
        "X = np.array(train.drop(['label'],axis = 1))\n",
        "Y = np.array(train['label'])\n",
        "#X_test = np.array(test.drop(['label'],axis = 1))\n",
        "#Y_test = np.array(test['label'])\n",
        "#print(Y_train.shape)\n",
        "X_train , X_test , Y_train , Y_test = train_test_split(X , Y , test_size = .2)\n",
        "X.shape"
      ],
      "execution_count": 0,
      "outputs": [
        {
          "output_type": "execute_result",
          "data": {
            "text/plain": [
              "(42000, 784)"
            ]
          },
          "metadata": {
            "tags": []
          },
          "execution_count": 7
        }
      ]
    },
    {
      "cell_type": "code",
      "metadata": {
        "id": "OlSB1vH7_6Ep",
        "colab_type": "code",
        "colab": {}
      },
      "source": [
        "def one_hot_matrix(labels , C ):\n",
        "    C = tf.constant(C , name = \"C\")\n",
        "    one_hot_matrix = tf.one_hot(labels , C , axis = 1)\n",
        "    sess = tf.Session()\n",
        "    one_hot = sess.run(one_hot_matrix)\n",
        "    sess.close()\n",
        "    return one_hot"
      ],
      "execution_count": 0,
      "outputs": []
    },
    {
      "cell_type": "code",
      "metadata": {
        "id": "z8XPxDZR_7vk",
        "colab_type": "code",
        "outputId": "83eb1294-e362-4487-ce36-fe706352b0b8",
        "colab": {
          "base_uri": "https://localhost:8080/",
          "height": 34
        }
      },
      "source": [
        "Y_Train = one_hot_matrix(Y_train,C = 2)  # change into one_hot_matrix\n",
        "Y_Test = one_hot_matrix(Y_test,C = 2)         #### used in last\n",
        "print(Y_train[0])"
      ],
      "execution_count": 0,
      "outputs": [
        {
          "output_type": "stream",
          "text": [
            "6\n"
          ],
          "name": "stdout"
        }
      ]
    },
    {
      "cell_type": "code",
      "metadata": {
        "id": "YMCDTn4pjYpt",
        "colab_type": "code",
        "outputId": "51a966fe-a58d-4f8e-c5bb-d2daf302685e",
        "colab": {
          "base_uri": "https://localhost:8080/",
          "height": 34
        }
      },
      "source": [
        "# make X_train shape to 784* 60000 and normalize it\n",
        "X_train = X_train.T/255\n",
        "X_test = X_test.T/255 \n",
        "print(X_train.shape,X_test.shape)\n"
      ],
      "execution_count": 0,
      "outputs": [
        {
          "output_type": "stream",
          "text": [
            "(784, 33600) (784, 8400)\n"
          ],
          "name": "stdout"
        }
      ]
    },
    {
      "cell_type": "code",
      "metadata": {
        "id": "5-tU4WDQkNqF",
        "colab_type": "code",
        "outputId": "400ff9e6-35f2-4afe-921e-98f604801642",
        "colab": {
          "base_uri": "https://localhost:8080/",
          "height": 88
        }
      },
      "source": [
        "model = keras.Sequential([keras.layers.Flatten(input_shape = (784,)),\n",
        "                         keras.layers.Dense(500,activation= tf.nn.relu),\n",
        "                         keras.layers.Dense(500,activation= tf.nn.relu), \n",
        "                         keras.layers.Dense(10,activation = tf.nn.softmax)])"
      ],
      "execution_count": 0,
      "outputs": [
        {
          "output_type": "stream",
          "text": [
            "WARNING:tensorflow:From /usr/local/lib/python3.6/dist-packages/tensorflow/python/ops/resource_variable_ops.py:435: colocate_with (from tensorflow.python.framework.ops) is deprecated and will be removed in a future version.\n",
            "Instructions for updating:\n",
            "Colocations handled automatically by placer.\n"
          ],
          "name": "stdout"
        }
      ]
    },
    {
      "cell_type": "code",
      "metadata": {
        "id": "lMxTwTRfkuv3",
        "colab_type": "code",
        "colab": {}
      },
      "source": [
        "model.compile(optimizer = tf.train.AdamOptimizer(),loss ='sparse_categorical_crossentropy',metrics = ['accuracy'])"
      ],
      "execution_count": 0,
      "outputs": []
    },
    {
      "cell_type": "code",
      "metadata": {
        "id": "Qwi6VORVkzuN",
        "colab_type": "code",
        "outputId": "b62beb47-3c6f-4ea3-f1a5-d156fa9d3733",
        "colab": {
          "base_uri": "https://localhost:8080/",
          "height": 204
        }
      },
      "source": [
        "model.fit(X_train.T,Y_train,epochs =5)"
      ],
      "execution_count": 0,
      "outputs": [
        {
          "output_type": "stream",
          "text": [
            "Epoch 1/5\n",
            "33600/33600 [==============================] - 7s 194us/sample - loss: 0.0911 - acc: 0.9717\n",
            "Epoch 2/5\n",
            "33600/33600 [==============================] - 6s 191us/sample - loss: 0.0647 - acc: 0.9794\n",
            "Epoch 3/5\n",
            "33600/33600 [==============================] - 7s 195us/sample - loss: 0.0447 - acc: 0.9851\n",
            "Epoch 4/5\n",
            "33600/33600 [==============================] - 6s 192us/sample - loss: 0.0347 - acc: 0.9887\n",
            "Epoch 5/5\n",
            "33600/33600 [==============================] - 7s 195us/sample - loss: 0.0284 - acc: 0.9909\n"
          ],
          "name": "stdout"
        },
        {
          "output_type": "execute_result",
          "data": {
            "text/plain": [
              "<tensorflow.python.keras.callbacks.History at 0x7fab2c938c50>"
            ]
          },
          "metadata": {
            "tags": []
          },
          "execution_count": 14
        }
      ]
    },
    {
      "cell_type": "code",
      "metadata": {
        "id": "YH_cW5Zok4rf",
        "colab_type": "code",
        "colab": {}
      },
      "source": [
        "test_loss,test_acc = model.evaluate(X_test.T,Y_test)\n",
        "print('Test accuracy' ,test_acc)"
      ],
      "execution_count": 0,
      "outputs": []
    },
    {
      "cell_type": "code",
      "metadata": {
        "id": "532x4jz7mLdH",
        "colab_type": "code",
        "colab": {}
      },
      "source": [
        "pred = model.predict(X_test.T)"
      ],
      "execution_count": 0,
      "outputs": []
    },
    {
      "cell_type": "code",
      "metadata": {
        "id": "0rlgTmF0vFmI",
        "colab_type": "code",
        "colab": {}
      },
      "source": [
        ""
      ],
      "execution_count": 0,
      "outputs": []
    }
  ]
}